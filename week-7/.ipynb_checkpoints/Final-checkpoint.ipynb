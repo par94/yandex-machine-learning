{
 "cells": [
  {
   "cell_type": "code",
   "execution_count": 2,
   "metadata": {},
   "outputs": [
    {
     "name": "stdout",
     "output_type": "stream",
     "text": [
      "   match_id  start_time  lobby_type  r1_hero  r1_level  r1_xp  r1_gold  r1_lh  \\\n",
      "0         0  1430198770           7       11         5   2098     1489     20   \n",
      "1         1  1430220345           0       42         4   1188     1033      9   \n",
      "2         2  1430227081           7       33         4   1319     1270     22   \n",
      "3         3  1430263531           1       29         4   1779     1056     14   \n",
      "4         4  1430282290           7       13         4   1431     1090      8   \n",
      "\n",
      "   r1_kills  r1_deaths          ...           dire_boots_count  \\\n",
      "0         0          0          ...                          4   \n",
      "1         0          1          ...                          4   \n",
      "2         0          0          ...                          4   \n",
      "3         0          0          ...                          4   \n",
      "4         1          0          ...                          3   \n",
      "\n",
      "   dire_ward_observer_count  dire_ward_sentry_count  dire_first_ward_time  \\\n",
      "0                         2                       2                 -52.0   \n",
      "1                         3                       1                  -5.0   \n",
      "2                         3                       1                  13.0   \n",
      "3                         2                       0                  27.0   \n",
      "4                         3                       0                 -16.0   \n",
      "\n",
      "   duration  radiant_win  tower_status_radiant  tower_status_dire  \\\n",
      "0      2874            1                  1796                  0   \n",
      "1      2463            1                  1974                  0   \n",
      "2      2130            0                     0               1830   \n",
      "3      1459            0                  1920               2047   \n",
      "4      2449            0                     4               1974   \n",
      "\n",
      "   barracks_status_radiant  barracks_status_dire  \n",
      "0                       51                     0  \n",
      "1                       63                     1  \n",
      "2                        0                    63  \n",
      "3                       50                    63  \n",
      "4                        3                    63  \n",
      "\n",
      "[5 rows x 109 columns]\n"
     ]
    }
   ],
   "source": [
    "import pandas as pd\n",
    "import numpy as np\n",
    "import math\n",
    "import os\n",
    "\n",
    "#__location__ = os.path.realpath(os.path.join(os.getcwd(), os.path.dirname(__file__)))\n",
    "#features = pd.read_csv(os.path.join(__location__,'features.csv'))\n",
    "features = pd.read_csv('features.csv')\n",
    "features.head()"
   ]
  }
 ],
 "metadata": {
  "kernelspec": {
   "display_name": "Python 3",
   "language": "python",
   "name": "python3"
  },
  "language_info": {
   "codemirror_mode": {
    "name": "ipython",
    "version": 3
   },
   "file_extension": ".py",
   "mimetype": "text/x-python",
   "name": "python",
   "nbconvert_exporter": "python",
   "pygments_lexer": "ipython3",
   "version": "3.6.3"
  }
 },
 "nbformat": 4,
 "nbformat_minor": 2
}
