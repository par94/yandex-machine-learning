{
 "cells": [
  {
   "cell_type": "code",
   "execution_count": 2,
   "metadata": {},
   "outputs": [],
   "source": [
    "import pandas as pd\n",
    "import numpy as np\n",
    "import os\n",
    "import math\n",
    "from sklearn.metrics import roc_auc_score\n",
    "from sklearn.linear_model import LogisticRegression"
   ]
  },
  {
   "cell_type": "code",
   "execution_count": 4,
   "metadata": {},
   "outputs": [
    {
     "name": "stdout",
     "output_type": "stream",
     "text": [
      "     0          1          2\n",
      "0   -1  -0.663827  -0.138526\n",
      "1    1   1.994596   2.468025\n",
      "2   -1  -1.247395   0.749425\n",
      "3    1   2.309374   1.899836\n",
      "4    1   0.849143   2.407750\n",
      "5    1   1.454271  -0.665416\n",
      "6    1   2.254227   2.263786\n",
      "7   -1  -0.067580   1.469141\n",
      "8   -1  -0.861961  -0.824856\n",
      "9    1   0.699179   2.032488\n",
      "10  -1  -0.161480   0.495462\n",
      "11  -1  -0.147102   0.419647\n",
      "12  -1   0.080296  -1.156097\n",
      "13  -1   1.720655  -1.080662\n",
      "14   1   1.573958   1.785434\n",
      "15  -1   1.168445  -0.645619\n",
      "16  -1  -0.066627  -1.059747\n",
      "17   1   1.163355   1.745887\n",
      "18   1   2.096970   1.129638\n",
      "19   1   3.035705   2.142838\n",
      "20  -1   0.831852  -0.606777\n",
      "21   1 -12.977800  -4.573056\n",
      "22  -1  -0.842603  -1.076282\n",
      "23  -1  -0.473537  -0.734473\n",
      "24  -1   1.540373   0.167921\n",
      "25  -1   0.495341   0.066751\n",
      "26   1   2.091486   2.550005\n",
      "27   1   2.937055   3.260800\n",
      "28  -1  -0.501667   0.318889\n",
      "29  -1   0.830207   1.234621\n",
      "..  ..        ...        ...\n",
      "175  1   0.212184   2.701000\n",
      "176 -1  -0.239311   1.362500\n",
      "177  1   1.828638   1.608036\n",
      "178 -1   0.277534  -0.758549\n",
      "179  1   2.586595   2.593424\n",
      "180  1   2.022412   3.267933\n",
      "181 -1  -0.208457   1.268443\n",
      "182  1   2.450550   1.440328\n",
      "183 -1   0.725817  -1.269952\n",
      "184  1   1.049660   1.489354\n",
      "185 -1   0.320265  -0.733109\n",
      "186 -1   2.138777  -1.546664\n",
      "187 -1  -0.963075   0.807909\n",
      "188 -1  -0.405415   1.069747\n",
      "189 -1  -0.539427  -0.935384\n",
      "190  1   4.465992   1.110073\n",
      "191  1   3.255261  -0.037275\n",
      "192 -1  -0.371662   1.371344\n",
      "193 -1  -0.726214  -1.208404\n",
      "194  1   2.167982  -0.247936\n",
      "195  1   2.146766   2.837469\n",
      "196 -1   0.660296  -0.969696\n",
      "197  1   2.311044   2.115702\n",
      "198  1   3.010920   1.519837\n",
      "199 -1  -1.033668  -0.147539\n",
      "200  1   4.245176   3.053931\n",
      "201  1   2.437935   1.357804\n",
      "202 -1  -1.876638   1.533398\n",
      "203  1  -6.824446 -13.934211\n",
      "204 -1   0.001805   0.865147\n",
      "\n",
      "[205 rows x 3 columns]\n"
     ]
    }
   ],
   "source": [
    "df_source = pd.read_csv('data-logistic.csv', header=None)\n",
    "x = df_source.loc[:, 1:2]\n",
    "y = df_source[0]\n",
    "print(df_source)"
   ]
  },
  {
   "cell_type": "code",
   "execution_count": 5,
   "metadata": {},
   "outputs": [],
   "source": [
    "def fw1(w1, w2, x, y, c, k):\n",
    "    l = len(y)\n",
    "    S = 0\n",
    "    for i in range(0,l):\n",
    "        S += y[i] * x[1][i] * (1 - 1 / (1 + math.exp(-y[i] * (w1 * x[1][i] + w2 * x[2][i]))))\n",
    "    w1_upd = w1 + S * k / l - k * c * w1\n",
    "    return w1_upd\n",
    "\n",
    "def fw2(w1, w2, x, y, c, k):\n",
    "    l = len(y)\n",
    "    S = 0\n",
    "    for i in range(0,l):\n",
    "        S += y[i] * x[2][i] * (1 - 1 / (1 + math.exp(-y[i] * (w1 * x[1][i] + w2 * x[2][i]))))\n",
    "    w2_upd = w2 + S * k / l - k * c * w2\n",
    "    return w2_upd"
   ]
  },
  {
   "cell_type": "code",
   "execution_count": 6,
   "metadata": {},
   "outputs": [],
   "source": [
    "def grad_desc(x, y, c=0.0, w1=0.0, w2=0.0, k=0.1, error=1e-5, n_max = 10000):\n",
    "    i = 0\n",
    "    test_error = error + 1\n",
    "    while (error < test_error) and (i < n_max):\n",
    "        w1_upd, w2_upd = fw1(w1, w2, x, y, c, k), fw2(w1, w2, x, y, c, k)\n",
    "        test_error = math.sqrt((w1_upd - w1) ** 2 + (w2_upd - w2) ** 2)\n",
    "        w1, w2 = w1_upd, w2_upd\n",
    "    return [w1, w2]"
   ]
  },
  {
   "cell_type": "code",
   "execution_count": null,
   "metadata": {},
   "outputs": [],
   "source": [
    "w1, w2 = grad_desc(x, y)\n",
    "rw1, rw2 = grad_desc(x, y, k=1, c=1)\n",
    "\n",
    "print(w1, w2)\n",
    "print(rw1, rw2)\n",
    "\n",
    "def a(x, w1, w2):\n",
    "    return 1 / (1 + math.exp(-w1 * x[1] - w2 * x[2]))\n",
    "\n",
    "y_score = x.apply(lambda x: a(x, w1, w2), axis=1)\n",
    "\n",
    "y_rscore = x.apply(lambda x: a(x, rw1, rw2), axis=1)\n",
    "auc = roc_auc_score(y, y_score)\n",
    "rauc = roc_auc_score(y, y_rscore)\n",
    "\n",
    "print(auc, rauc)"
   ]
  },
  {
   "cell_type": "code",
   "execution_count": null,
   "metadata": {},
   "outputs": [],
   "source": []
  }
 ],
 "metadata": {
  "kernelspec": {
   "display_name": "Python 3",
   "language": "python",
   "name": "python3"
  },
  "language_info": {
   "codemirror_mode": {
    "name": "ipython",
    "version": 3
   },
   "file_extension": ".py",
   "mimetype": "text/x-python",
   "name": "python",
   "nbconvert_exporter": "python",
   "pygments_lexer": "ipython3",
   "version": "3.6.5"
  }
 },
 "nbformat": 4,
 "nbformat_minor": 2
}
