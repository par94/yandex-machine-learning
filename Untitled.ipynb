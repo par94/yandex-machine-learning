{
 "cells": [
  {
   "cell_type": "code",
   "execution_count": 36,
   "metadata": {},
   "outputs": [
    {
     "name": "stderr",
     "output_type": "stream",
     "text": [
      "c:\\program files (x86)\\python36-32\\lib\\site-packages\\ipykernel_launcher.py:12: SettingWithCopyWarning: \n",
      "A value is trying to be set on a copy of a slice from a DataFrame.\n",
      "Try using .loc[row_indexer,col_indexer] = value instead\n",
      "\n",
      "See the caveats in the documentation: http://pandas.pydata.org/pandas-docs/stable/indexing.html#indexing-view-versus-copy\n",
      "  if sys.path[0] == '':\n",
      "c:\\program files (x86)\\python36-32\\lib\\site-packages\\ipykernel_launcher.py:13: SettingWithCopyWarning: \n",
      "A value is trying to be set on a copy of a slice from a DataFrame.\n",
      "Try using .loc[row_indexer,col_indexer] = value instead\n",
      "\n",
      "See the caveats in the documentation: http://pandas.pydata.org/pandas-docs/stable/indexing.html#indexing-view-versus-copy\n",
      "  del sys.path[0]\n",
      "c:\\program files (x86)\\python36-32\\lib\\site-packages\\ipykernel_launcher.py:15: SettingWithCopyWarning: \n",
      "A value is trying to be set on a copy of a slice from a DataFrame.\n",
      "Try using .loc[row_indexer,col_indexer] = value instead\n",
      "\n",
      "See the caveats in the documentation: http://pandas.pydata.org/pandas-docs/stable/indexing.html#indexing-view-versus-copy\n",
      "  from ipykernel import kernelapp as app\n",
      "c:\\program files (x86)\\python36-32\\lib\\site-packages\\ipykernel_launcher.py:19: SettingWithCopyWarning: \n",
      "A value is trying to be set on a copy of a slice from a DataFrame\n",
      "\n",
      "See the caveats in the documentation: http://pandas.pydata.org/pandas-docs/stable/indexing.html#indexing-view-versus-copy\n",
      "c:\\program files (x86)\\python36-32\\lib\\site-packages\\ipykernel_launcher.py:26: SettingWithCopyWarning: \n",
      "A value is trying to be set on a copy of a slice from a DataFrame\n",
      "\n",
      "See the caveats in the documentation: http://pandas.pydata.org/pandas-docs/stable/indexing.html#indexing-view-versus-copy\n"
     ]
    },
    {
     "data": {
      "text/plain": [
       "array([0.14000522, 0.30343647, 0.2560461 , 0.30051221])"
      ]
     },
     "execution_count": 36,
     "metadata": {},
     "output_type": "execute_result"
    }
   ],
   "source": [
    "import pandas as pd\n",
    "from sklearn.tree import DecisionTreeClassifier\n",
    "\n",
    "#Read CSV and import the Titanic Dataset\n",
    "df = pd.read_csv('titanic.csv')\n",
    "\n",
    "#Leave only these features in the dataset 'Pclass', 'Fare', 'Age', 'Sex'\n",
    "X = pd.DataFrame()\n",
    "X = df[['Pclass', 'Fare', 'Age', 'Sex', 'Survived']]\n",
    "\n",
    "#'Sex' is a string variable - substitute that with 0 and 1\n",
    "X['Sex'] = X['Sex'].str.replace(\"female\", \"0\")\n",
    "X['Sex'] = X['Sex'].str.replace(\"male\", \"1\")\n",
    "#X.infer_objects()\n",
    "X['Sex'] = X['Sex'].astype(int)\n",
    "\n",
    "#Some of the features are missing - they displayed as nan in pandas. \n",
    "#Remove the rows with the missing features.\n",
    "X.dropna(axis=0, how='any', inplace=True)\n",
    "#X = X.dropna(axis=0, how='any')\n",
    "\n",
    "#Train the decision tree classifier with the parameter random_state=241\n",
    "#and all other parameters as defaults\n",
    "clf = DecisionTreeClassifier(random_state=241)\n",
    "y = X[\"Survived\"]\n",
    "X.drop(columns = [\"Survived\"], inplace = True)\n",
    "clf.fit(X, y)\n",
    "\n",
    "#Calculate the importance of different parameters and select 2 most important ones\n",
    "importances = clf.feature_importances_\n",
    "importances"
   ]
  },
  {
   "cell_type": "code",
   "execution_count": null,
   "metadata": {},
   "outputs": [],
   "source": []
  }
 ],
 "metadata": {
  "kernelspec": {
   "display_name": "Python 3",
   "language": "python",
   "name": "python3"
  },
  "language_info": {
   "codemirror_mode": {
    "name": "ipython",
    "version": 3
   },
   "file_extension": ".py",
   "mimetype": "text/x-python",
   "name": "python",
   "nbconvert_exporter": "python",
   "pygments_lexer": "ipython3",
   "version": "3.6.5"
  }
 },
 "nbformat": 4,
 "nbformat_minor": 2
}
